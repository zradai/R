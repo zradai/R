{
 "cells": [
  {
   "cell_type": "markdown",
   "id": "41844923",
   "metadata": {},
   "source": [
    "# R basics"
   ]
  },
  {
   "cell_type": "markdown",
   "id": "b39a24d5",
   "metadata": {},
   "source": [
    "This is a basic R tutorial.\n",
    "\n",
    "$$y = x \\beta + \\alpha$$"
   ]
  },
  {
   "cell_type": "markdown",
   "id": "56f7ac7c",
   "metadata": {},
   "source": [
    "## Syntax"
   ]
  },
  {
   "cell_type": "code",
   "execution_count": 2,
   "id": "97cc8b2e",
   "metadata": {},
   "outputs": [
    {
     "name": "stdout",
     "output_type": "stream",
     "text": [
      "[1] 5\n"
     ]
    }
   ],
   "source": [
    "a=3\n",
    "b=2\n",
    "print(a+b)"
   ]
  },
  {
   "cell_type": "code",
   "execution_count": null,
   "id": "47daef9c",
   "metadata": {},
   "outputs": [],
   "source": []
  }
 ],
 "metadata": {
  "kernelspec": {
   "display_name": "R",
   "language": "R",
   "name": "ir"
  },
  "language_info": {
   "codemirror_mode": "r",
   "file_extension": ".r",
   "mimetype": "text/x-r-source",
   "name": "R",
   "pygments_lexer": "r",
   "version": "4.2.0"
  }
 },
 "nbformat": 4,
 "nbformat_minor": 5
}
